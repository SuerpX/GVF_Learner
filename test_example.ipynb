{
 "cells": [
  {
   "cell_type": "code",
   "execution_count": 2,
   "metadata": {},
   "outputs": [],
   "source": [
    "import gym\n",
    "import gym_mod_cartpole\n",
    "from random import random, randint, uniform\n",
    "from env.decom_lunar_lander import LunarLander as LunarLander_decom_reward\n",
    "from copy import deepcopy\n",
    "import os\n",
    "import torch\n",
    "import numpy as np\n",
    "from tqdm import tqdm\n",
    "\n",
    "from GVF_learner import GVF_learner\n",
    "from memory.memory import ReplayBuffer_decom\n",
    "from models.dqn_model import DQNModel\n",
    "\n",
    "FloatTensor = torch.cuda.FloatTensor\n",
    "LongTensor = torch.cuda.LongTensor\n",
    "\n",
    "# Writer = SummaryWriter(log_dir=\"CartPole_summary\")"
   ]
  },
  {
   "cell_type": "code",
   "execution_count": 3,
   "metadata": {},
   "outputs": [],
   "source": [
    "ENV_NAME = 'test_grid'\n",
    "ACTION_DICT = {\n",
    "    \"LEFT\":0,\n",
    "    \"RIGHT\":1\n",
    "}"
   ]
  },
  {
   "cell_type": "code",
   "execution_count": 4,
   "metadata": {},
   "outputs": [],
   "source": [
    "# Set result saveing floder\n",
    "result_floder = ENV_NAME\n",
    "result_file = ENV_NAME + \"/results.txt\"\n",
    "if not os.path.isdir(result_floder):\n",
    "    os.mkdir(result_floder)"
   ]
  },
  {
   "cell_type": "markdown",
   "metadata": {},
   "source": [
    "## GVF learner\n",
    "Train GVF model base on the dataset and policy above"
   ]
  },
  {
   "cell_type": "code",
   "execution_count": 5,
   "metadata": {},
   "outputs": [],
   "source": [
    "test_GVF_PARAMETERS = {\n",
    "    \"batch size\" : 3, # update batch size\n",
    "    \"learning rate\" : 0.0001,\n",
    "    \"feature num\" : 2, # numbers/length of feature\n",
    "    \"state length\" : 4,\n",
    "    \"discount factor\" : [0.99], # for each features respectively\n",
    "    \"action space\": 4,\n",
    "    'model_replace_freq' : 10,\n",
    "    'soft_tau': 0.001\n",
    "}\n",
    "def policy(state_actions):\n",
    "    return 1\n",
    "\n",
    "def get_dataset():\n",
    "    dataset = [\n",
    "        [[1, 0, 0, 0, 1, 0, 0, 0], -1, -1, [1, 0, 0, 0], 0, [-1, 0]],\n",
    "        [[1, 0, 0, 0, 0, 1, 0, 0], -1, -1, [0, 1, 0, 0], 0, [-1, 0]],\n",
    "        [[0, 1, 0, 0, 1, 0, 0, 0], -1, -1, [1, 0, 0, 0], 0, [-1, 0]],\n",
    "        [[0, 1, 0, 0, 0, 1, 0, 0], -1, -1, [0, 0, 1, 0], 0, [-1, 0]],\n",
    "        [[0, 0, 1, 0, 1, 0, 0, 0], -1, -1, [0, 1, 0, 0], 0, [-1, 0]],\n",
    "        [[0, 0, 1, 0, 0, 1, 0, 0], -1, -1, [0, 0, 0, 1], 1, [-1, 0]],\n",
    "        \n",
    "        [[1, 0, 0, 0, 0, 0, 1, 0], -1, -1, [1, 0, 0, 0], 0, [-1, 0]],\n",
    "        [[1, 0, 0, 0, 0, 0, 0, 1], -1, -1, [1, 0, 0, 0], 0, [-1, 0]],\n",
    "        [[0, 1, 0, 0, 0, 0, 0, 0], -1, -1, [0, 1, 0, 0], 0, [-1, 0]],\n",
    "        [[0, 1, 0, 0, 0, 0, 0, 0], -1, -1, [0, 1, 0, 0], 0, [-1, 0]],\n",
    "        [[0, 0, 1, 0, 0, 0, 0, 0], -1, -1, [0, 0, 1, 0], 0, [-1, 0]],\n",
    "        [[0, 0, 1, 0, 0, 0, 0, 0], -1, -1, [0, 0, 1, 0], 0, [-1, 0]],\n",
    "    ]\n",
    "    return dataset\n",
    "        \n"
   ]
  },
  {
   "cell_type": "code",
   "execution_count": 6,
   "metadata": {},
   "outputs": [
    {
     "name": "stderr",
     "output_type": "stream",
     "text": [
      "  2%|▏         | 15/1000 [00:00<01:13, 13.40it/s]"
     ]
    },
    {
     "name": "stdout",
     "output_type": "stream",
     "text": [
      "train loss : 0.3661818876862526\n",
      "train loss : 0.48578018695116043\n",
      "train loss : 0.6092327684164047\n"
     ]
    },
    {
     "name": "stderr",
     "output_type": "stream",
     "text": [
      "  6%|▌         | 57/1000 [00:00<00:28, 32.86it/s]"
     ]
    },
    {
     "name": "stdout",
     "output_type": "stream",
     "text": [
      "train loss : 0.787784032523632\n",
      "train loss : 0.8037081807851791\n",
      "train loss : 0.6885520219802856\n"
     ]
    },
    {
     "name": "stderr",
     "output_type": "stream",
     "text": [
      "  8%|▊         | 85/1000 [00:00<00:17, 53.62it/s]"
     ]
    },
    {
     "name": "stdout",
     "output_type": "stream",
     "text": [
      "train loss : 0.490154015365988\n",
      "train loss : 0.3133475976064801\n",
      "train loss : 0.1855809586122632\n"
     ]
    },
    {
     "name": "stderr",
     "output_type": "stream",
     "text": [
      " 11%|█▏        | 113/1000 [00:00<00:11, 77.65it/s]"
     ]
    },
    {
     "name": "stdout",
     "output_type": "stream",
     "text": [
      "train loss : 0.11225068662315607\n",
      "train loss : 0.07239036168903112\n",
      "train loss : 0.05350707611069083\n"
     ]
    },
    {
     "name": "stderr",
     "output_type": "stream",
     "text": [
      " 14%|█▍        | 141/1000 [00:01<00:08, 99.42it/s]"
     ]
    },
    {
     "name": "stdout",
     "output_type": "stream",
     "text": [
      "train loss : 0.041604479076340795\n",
      "train loss : 0.03251015627756715\n",
      "train loss : 0.026625313796103\n"
     ]
    },
    {
     "name": "stderr",
     "output_type": "stream",
     "text": [
      " 17%|█▋        | 169/1000 [00:01<00:07, 115.49it/s]"
     ]
    },
    {
     "name": "stdout",
     "output_type": "stream",
     "text": [
      "train loss : 0.021834249040693976\n",
      "train loss : 0.01732347154757008\n",
      "train loss : 0.012390780728310347\n"
     ]
    },
    {
     "name": "stderr",
     "output_type": "stream",
     "text": [
      " 20%|█▉        | 197/1000 [00:01<00:06, 126.02it/s]"
     ]
    },
    {
     "name": "stdout",
     "output_type": "stream",
     "text": [
      "train loss : 0.008170900997356512\n",
      "train loss : 0.004611108950484777\n",
      "train loss : 0.002406575862551108\n"
     ]
    },
    {
     "name": "stderr",
     "output_type": "stream",
     "text": [
      " 23%|██▎       | 226/1000 [00:01<00:05, 132.30it/s]"
     ]
    },
    {
     "name": "stdout",
     "output_type": "stream",
     "text": [
      "train loss : 0.0012365480979497079\n",
      "train loss : 0.0006824584779678844\n",
      "train loss : 0.0004372729363240069\n"
     ]
    },
    {
     "name": "stderr",
     "output_type": "stream",
     "text": [
      " 27%|██▋       | 268/1000 [00:02<00:05, 135.66it/s]"
     ]
    },
    {
     "name": "stdout",
     "output_type": "stream",
     "text": [
      "train loss : 0.0002965803214465268\n",
      "train loss : 0.0001962164928954735\n",
      "train loss : 0.00011954138335568132\n"
     ]
    },
    {
     "name": "stderr",
     "output_type": "stream",
     "text": [
      " 30%|██▉       | 296/1000 [00:02<00:05, 136.45it/s]"
     ]
    },
    {
     "name": "stdout",
     "output_type": "stream",
     "text": [
      "train loss : 8.506111998940469e-05\n",
      "train loss : 7.841648130124668e-05\n",
      "train loss : 7.77360905885871e-05\n"
     ]
    },
    {
     "name": "stderr",
     "output_type": "stream",
     "text": [
      " 32%|███▏      | 324/1000 [00:02<00:04, 136.19it/s]"
     ]
    },
    {
     "name": "stdout",
     "output_type": "stream",
     "text": [
      "train loss : 6.953189586056396e-05\n",
      "train loss : 5.399462725108606e-05\n",
      "train loss : 3.643244531303935e-05\n"
     ]
    },
    {
     "name": "stderr",
     "output_type": "stream",
     "text": [
      " 35%|███▌      | 352/1000 [00:02<00:04, 134.93it/s]"
     ]
    },
    {
     "name": "stdout",
     "output_type": "stream",
     "text": [
      "train loss : 2.2279757331489236e-05\n",
      "train loss : 1.2562471056298818e-05\n",
      "train loss : 7.101736628101207e-06\n"
     ]
    },
    {
     "name": "stderr",
     "output_type": "stream",
     "text": [
      " 38%|███▊      | 380/1000 [00:02<00:04, 134.81it/s]"
     ]
    },
    {
     "name": "stdout",
     "output_type": "stream",
     "text": [
      "train loss : 4.233833863054315e-06\n",
      "train loss : 2.811646822920011e-06\n",
      "train loss : 1.9540538573892263e-06\n"
     ]
    },
    {
     "name": "stderr",
     "output_type": "stream",
     "text": [
      " 41%|████      | 408/1000 [00:03<00:04, 134.21it/s]"
     ]
    },
    {
     "name": "stdout",
     "output_type": "stream",
     "text": [
      "train loss : 1.469623938987752e-06\n",
      "train loss : 1.024100129143335e-06\n",
      "train loss : 6.401855614512897e-07\n"
     ]
    },
    {
     "name": "stderr",
     "output_type": "stream",
     "text": [
      " 44%|████▎     | 436/1000 [00:03<00:04, 135.16it/s]"
     ]
    },
    {
     "name": "stdout",
     "output_type": "stream",
     "text": [
      "train loss : 3.823562018112625e-07\n",
      "train loss : 2.1000762018275054e-07\n",
      "train loss : 1.1490483942111496e-07\n"
     ]
    },
    {
     "name": "stderr",
     "output_type": "stream",
     "text": [
      " 48%|████▊     | 478/1000 [00:03<00:03, 135.51it/s]"
     ]
    },
    {
     "name": "stdout",
     "output_type": "stream",
     "text": [
      "train loss : 6.572712551999871e-08\n",
      "train loss : 3.8814379044183056e-08\n",
      "train loss : 2.4226982420216814e-08\n"
     ]
    },
    {
     "name": "stderr",
     "output_type": "stream",
     "text": [
      " 51%|█████     | 506/1000 [00:03<00:03, 135.97it/s]"
     ]
    },
    {
     "name": "stdout",
     "output_type": "stream",
     "text": [
      "train loss : 1.442998481815394e-08\n",
      "train loss : 8.334591010406012e-09\n",
      "train loss : 4.486137516589855e-09\n"
     ]
    },
    {
     "name": "stderr",
     "output_type": "stream",
     "text": [
      " 53%|█████▎    | 534/1000 [00:04<00:03, 135.79it/s]"
     ]
    },
    {
     "name": "stdout",
     "output_type": "stream",
     "text": [
      "train loss : 2.1811603911903177e-09\n",
      "train loss : 1.088750728461818e-09\n",
      "train loss : 5.752366707967305e-10\n"
     ]
    },
    {
     "name": "stderr",
     "output_type": "stream",
     "text": [
      " 56%|█████▌    | 562/1000 [00:04<00:03, 135.64it/s]"
     ]
    },
    {
     "name": "stdout",
     "output_type": "stream",
     "text": [
      "train loss : 3.2957695947355425e-10\n",
      "train loss : 2.0860861649207862e-10\n",
      "train loss : 1.0986518118871746e-10\n"
     ]
    },
    {
     "name": "stderr",
     "output_type": "stream",
     "text": [
      " 59%|█████▉    | 590/1000 [00:04<00:03, 135.80it/s]"
     ]
    },
    {
     "name": "stdout",
     "output_type": "stream",
     "text": [
      "train loss : 5.971423182316027e-11\n",
      "train loss : 2.985253537424182e-11\n",
      "train loss : 1.6283311938397604e-11\n"
     ]
    },
    {
     "name": "stderr",
     "output_type": "stream",
     "text": [
      " 62%|██████▏   | 618/1000 [00:04<00:02, 135.97it/s]"
     ]
    },
    {
     "name": "stdout",
     "output_type": "stream",
     "text": [
      "train loss : 8.827681288866782e-12\n",
      "train loss : 5.099527137369941e-12\n",
      "train loss : 3.7912942099996294e-12\n"
     ]
    },
    {
     "name": "stderr",
     "output_type": "stream",
     "text": [
      " 65%|██████▍   | 646/1000 [00:04<00:02, 135.53it/s]"
     ]
    },
    {
     "name": "stdout",
     "output_type": "stream",
     "text": [
      "train loss : 2.5512886074607888e-12\n",
      "train loss : 1.797927258462284e-12\n",
      "train loss : 1.4753010553654466e-12\n"
     ]
    },
    {
     "name": "stderr",
     "output_type": "stream",
     "text": [
      " 67%|██████▋   | 674/1000 [00:05<00:02, 134.61it/s]"
     ]
    },
    {
     "name": "stdout",
     "output_type": "stream",
     "text": [
      "train loss : 9.671680367391924e-13\n",
      "train loss : 7.563605435869335e-13\n",
      "train loss : 5.850686756359198e-13\n"
     ]
    },
    {
     "name": "stderr",
     "output_type": "stream",
     "text": [
      " 72%|███████▏  | 716/1000 [00:05<00:02, 135.46it/s]"
     ]
    },
    {
     "name": "stdout",
     "output_type": "stream",
     "text": [
      "train loss : 5.088761782291208e-13\n",
      "train loss : 4.4163775419917353e-13\n",
      "train loss : 4.2045890152799664e-13\n"
     ]
    },
    {
     "name": "stderr",
     "output_type": "stream",
     "text": [
      " 74%|███████▍  | 744/1000 [00:05<00:01, 135.91it/s]"
     ]
    },
    {
     "name": "stdout",
     "output_type": "stream",
     "text": [
      "train loss : 3.279639099629684e-13\n",
      "train loss : 2.472483226864013e-13\n",
      "train loss : 2.588846360050169e-13\n"
     ]
    },
    {
     "name": "stderr",
     "output_type": "stream",
     "text": [
      " 77%|███████▋  | 772/1000 [00:05<00:01, 135.77it/s]"
     ]
    },
    {
     "name": "stdout",
     "output_type": "stream",
     "text": [
      "train loss : 1.731082996132144e-13\n",
      "train loss : 1.4857678804581836e-13\n",
      "train loss : 1.1474972685108272e-13\n"
     ]
    },
    {
     "name": "stderr",
     "output_type": "stream",
     "text": [
      " 80%|████████  | 800/1000 [00:05<00:01, 135.74it/s]"
     ]
    },
    {
     "name": "stdout",
     "output_type": "stream",
     "text": [
      "train loss : 9.574355773532637e-14\n",
      "train loss : 9.793889179878943e-14\n",
      "train loss : 6.186719498789579e-14\n"
     ]
    },
    {
     "name": "stderr",
     "output_type": "stream",
     "text": [
      " 83%|████████▎ | 828/1000 [00:06<00:01, 135.58it/s]"
     ]
    },
    {
     "name": "stdout",
     "output_type": "stream",
     "text": [
      "train loss : 8.276339276457392e-14\n",
      "train loss : 8.006122637272588e-14\n",
      "train loss : 3.66603103291547e-14\n"
     ]
    },
    {
     "name": "stderr",
     "output_type": "stream",
     "text": [
      " 86%|████████▌ | 856/1000 [00:06<00:01, 135.76it/s]"
     ]
    },
    {
     "name": "stdout",
     "output_type": "stream",
     "text": [
      "train loss : 3.8458653099841017e-14\n",
      "train loss : 1.9437952683888264e-14\n",
      "train loss : 1.9396348807799297e-14\n"
     ]
    },
    {
     "name": "stderr",
     "output_type": "stream",
     "text": [
      " 90%|████████▉ | 898/1000 [00:06<00:00, 135.71it/s]"
     ]
    },
    {
     "name": "stdout",
     "output_type": "stream",
     "text": [
      "train loss : 1.654359317958435e-14\n",
      "train loss : 9.607481858318191e-15\n",
      "train loss : 1.3880744799833322e-14\n"
     ]
    },
    {
     "name": "stderr",
     "output_type": "stream",
     "text": [
      " 93%|█████████▎| 926/1000 [00:06<00:00, 136.06it/s]"
     ]
    },
    {
     "name": "stdout",
     "output_type": "stream",
     "text": [
      "train loss : 9.047841108635412e-15\n",
      "train loss : 2.0777312467366253e-14\n",
      "train loss : 2.200393243026249e-14\n"
     ]
    },
    {
     "name": "stderr",
     "output_type": "stream",
     "text": [
      " 95%|█████████▌| 954/1000 [00:07<00:00, 135.45it/s]"
     ]
    },
    {
     "name": "stdout",
     "output_type": "stream",
     "text": [
      "train loss : 1.022917401163789e-14\n",
      "train loss : 1.0195909492551996e-14\n",
      "train loss : 9.811620702898969e-15\n"
     ]
    },
    {
     "name": "stderr",
     "output_type": "stream",
     "text": [
      " 98%|█████████▊| 982/1000 [00:07<00:00, 135.77it/s]"
     ]
    },
    {
     "name": "stdout",
     "output_type": "stream",
     "text": [
      "train loss : 1.0484468884981221e-14\n",
      "train loss : 4.943593903805543e-15\n",
      "train loss : 3.046097364992897e-14\n"
     ]
    },
    {
     "name": "stderr",
     "output_type": "stream",
     "text": [
      "100%|██████████| 1000/1000 [00:07<00:00, 134.14it/s]"
     ]
    },
    {
     "name": "stdout",
     "output_type": "stream",
     "text": [
      "train loss : 4.760332469228338e-14\n"
     ]
    },
    {
     "name": "stderr",
     "output_type": "stream",
     "text": [
      "\n"
     ]
    },
    {
     "data": {
      "text/plain": [
       "gvf_model(\n",
       "  (fc1): Sequential(\n",
       "    (0): Linear(in_features=8, out_features=512, bias=True)\n",
       "    (1): ReLU()\n",
       "  )\n",
       "  (fc2): Sequential(\n",
       "    (0): Linear(in_features=512, out_features=256, bias=True)\n",
       "    (1): ReLU()\n",
       "  )\n",
       "  (fc3): Sequential(\n",
       "    (0): Linear(in_features=256, out_features=2, bias=True)\n",
       "  )\n",
       ")"
      ]
     },
     "execution_count": 6,
     "metadata": {},
     "output_type": "execute_result"
    }
   ],
   "source": [
    "dataset = get_dataset()\n",
    "gvf_learner = GVF_learner(test_GVF_PARAMETERS, dataset, policy)\n",
    "gvf_learner.learn_and_eval(1000, 10)"
   ]
  },
  {
   "cell_type": "code",
   "execution_count": 7,
   "metadata": {},
   "outputs": [
    {
     "name": "stdout",
     "output_type": "stream",
     "text": [
      "[1.0, 0.0, 0.0, 0.0, 1.0, 0.0, 0.0, 0.0]\n",
      "0\n",
      "tensor([[-3.9404e+00,  3.7253e-09]], device='cuda:0', grad_fn=<AddmmBackward>)\n",
      "[1.0, 0.0, 0.0, 0.0, 0.0, 1.0, 0.0, 0.0]\n",
      "1\n",
      "tensor([[-2.9701e+00,  3.7253e-08]], device='cuda:0', grad_fn=<AddmmBackward>)\n",
      "[0.0, 1.0, 0.0, 0.0, 1.0, 0.0, 0.0, 0.0]\n",
      "2\n",
      "tensor([[-3.9404e+00, -3.7253e-09]], device='cuda:0', grad_fn=<AddmmBackward>)\n",
      "[0.0, 1.0, 0.0, 0.0, 0.0, 1.0, 0.0, 0.0]\n",
      "3\n",
      "tensor([[-1.9900e+00,  2.2352e-08]], device='cuda:0', grad_fn=<AddmmBackward>)\n",
      "[0.0, 0.0, 1.0, 0.0, 1.0, 0.0, 0.0, 0.0]\n",
      "4\n",
      "tensor([[-2.9701e+00,  3.7253e-08]], device='cuda:0', grad_fn=<AddmmBackward>)\n",
      "[0.0, 0.0, 1.0, 0.0, 0.0, 1.0, 0.0, 0.0]\n",
      "5\n",
      "tensor([[-1.0000e+00, -2.2352e-08]], device='cuda:0', grad_fn=<AddmmBackward>)\n",
      "[1.0, 0.0, 0.0, 0.0, 0.0, 0.0, 1.0, 0.0]\n",
      "6\n",
      "tensor([[-3.9404e+00,  1.8626e-08]], device='cuda:0', grad_fn=<AddmmBackward>)\n",
      "[1.0, 0.0, 0.0, 0.0, 0.0, 0.0, 0.0, 1.0]\n",
      "7\n",
      "tensor([[-3.9404e+00,  4.8429e-08]], device='cuda:0', grad_fn=<AddmmBackward>)\n",
      "[0.0, 1.0, 0.0, 0.0, 0.0, 0.0, 0.0, 0.0]\n",
      "8\n",
      "tensor([[-2.9701e+00,  3.7253e-08]], device='cuda:0', grad_fn=<AddmmBackward>)\n",
      "[0.0, 1.0, 0.0, 0.0, 0.0, 0.0, 0.0, 0.0]\n",
      "9\n",
      "tensor([[-2.9701e+00,  3.7253e-08]], device='cuda:0', grad_fn=<AddmmBackward>)\n",
      "[0.0, 0.0, 1.0, 0.0, 0.0, 0.0, 0.0, 0.0]\n",
      "10\n",
      "tensor([[-1.9900e+00, -4.0978e-08]], device='cuda:0', grad_fn=<AddmmBackward>)\n",
      "[0.0, 0.0, 1.0, 0.0, 0.0, 0.0, 0.0, 0.0]\n",
      "11\n",
      "tensor([[-1.9900e+00, -4.0978e-08]], device='cuda:0', grad_fn=<AddmmBackward>)\n"
     ]
    }
   ],
   "source": [
    "for i, td in enumerate(dataset):\n",
    "    test_data = FloatTensor(np.array([td[0]]))\n",
    "    print(test_data.tolist()[0])\n",
    "    print(i)\n",
    "    print(gvf_learner.eval_model(test_data))"
   ]
  },
  {
   "cell_type": "code",
   "execution_count": null,
   "metadata": {},
   "outputs": [],
   "source": []
  }
 ],
 "metadata": {
  "kernelspec": {
   "display_name": "Python 3",
   "language": "python",
   "name": "python3"
  },
  "language_info": {
   "codemirror_mode": {
    "name": "ipython",
    "version": 3
   },
   "file_extension": ".py",
   "mimetype": "text/x-python",
   "name": "python",
   "nbconvert_exporter": "python",
   "pygments_lexer": "ipython3",
   "version": "3.6.8"
  }
 },
 "nbformat": 4,
 "nbformat_minor": 4
}

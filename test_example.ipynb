{
 "cells": [
  {
   "cell_type": "code",
   "execution_count": null,
   "metadata": {},
   "outputs": [],
   "source": [
    "import gym\n",
    "import gym_mod_cartpole\n",
    "from random import random, randint, uniform\n",
    "from env.decom_lunar_lander import LunarLander as LunarLander_decom_reward\n",
    "from copy import deepcopy\n",
    "import os\n",
    "import torch\n",
    "import numpy as np\n",
    "from tqdm import tqdm\n",
    "\n",
    "from GVF_learner import GVF_learner\n",
    "from memory.memory import ReplayBuffer_decom\n",
    "from models.dqn_model import DQNModel\n",
    "\n",
    "FloatTensor = torch.cuda.FloatTensor\n",
    "LongTensor = torch.cuda.LongTensor\n",
    "\n",
    "# Writer = SummaryWriter(log_dir=\"CartPole_summary\")"
   ]
  },
  {
   "cell_type": "code",
   "execution_count": null,
   "metadata": {},
   "outputs": [],
   "source": [
    "ENV_NAME = 'test_grid'\n",
    "ACTION_DICT = {\n",
    "    \"LEFT\":0,\n",
    "    \"RIGHT\":1\n",
    "}"
   ]
  },
  {
   "cell_type": "code",
   "execution_count": null,
   "metadata": {},
   "outputs": [],
   "source": [
    "# Set result saveing floder\n",
    "result_floder = ENV_NAME\n",
    "result_file = ENV_NAME + \"/results.txt\"\n",
    "if not os.path.isdir(result_floder):\n",
    "    os.mkdir(result_floder)"
   ]
  },
  {
   "cell_type": "markdown",
   "metadata": {},
   "source": [
    "## GVF learner\n",
    "Train GVF model base on the dataset and policy above"
   ]
  },
  {
   "cell_type": "code",
   "execution_count": null,
   "metadata": {},
   "outputs": [],
   "source": [
    "test_GVF_PARAMETERS = {\n",
    "    \"batch size\" : 3, # update batch size\n",
    "    \"learning rate\" : 0.0001,\n",
    "    \"feature num\" : 2, # numbers/length of feature\n",
    "    \"state length\" : 4,\n",
    "    \"discount factor\" : [0.99], # for each features respectively\n",
    "    \"action space\": 4,\n",
    "    'model_replace_freq' : 10,\n",
    "    'soft_tau': 0.001\n",
    "}\n",
    "def policy(state_actions):\n",
    "    return 1\n",
    "\n",
    "def get_dataset():\n",
    "    dataset = [\n",
    "        [[1, 0, 0, 0, 1, 0, 0, 0], -1, -1, [1, 0, 0, 0], 0, [-1, 0]],\n",
    "        [[1, 0, 0, 0, 0, 1, 0, 0], -1, -1, [0, 1, 0, 0], 0, [-1, 0]],\n",
    "        [[0, 1, 0, 0, 1, 0, 0, 0], -1, -1, [1, 0, 0, 0], 0, [-1, 0]],\n",
    "        [[0, 1, 0, 0, 0, 1, 0, 0], -1, -1, [0, 0, 1, 0], 0, [-1, 0]],\n",
    "        [[0, 0, 1, 0, 1, 0, 0, 0], -1, -1, [0, 1, 0, 0], 0, [-1, 0]],\n",
    "        [[0, 0, 1, 0, 0, 1, 0, 0], -1, -1, [0, 0, 0, 1], 1, [-1, 0]],\n",
    "        \n",
    "        [[1, 0, 0, 0, 0, 0, 1, 0], -1, -1, [1, 0, 0, 0], 0, [-1, 0]],\n",
    "        [[1, 0, 0, 0, 0, 0, 0, 1], -1, -1, [1, 0, 0, 0], 0, [-1, 0]],\n",
    "        [[0, 1, 0, 0, 0, 0, 0, 0], -1, -1, [0, 1, 0, 0], 0, [-1, 0]],\n",
    "        [[0, 1, 0, 0, 0, 0, 0, 0], -1, -1, [0, 1, 0, 0], 0, [-1, 0]],\n",
    "        [[0, 0, 1, 0, 0, 0, 0, 0], -1, -1, [0, 0, 1, 0], 0, [-1, 0]],\n",
    "        [[0, 0, 1, 0, 0, 0, 0, 0], -1, -1, [0, 0, 1, 0], 0, [-1, 0]],\n",
    "    ]\n",
    "    return dataset\n",
    "        \n"
   ]
  },
  {
   "cell_type": "code",
   "execution_count": null,
   "metadata": {},
   "outputs": [],
   "source": [
    "dataset = get_dataset()\n",
    "gvf_learner = GVF_learner(test_GVF_PARAMETERS, dataset, policy)\n",
    "gvf_learner.learn_and_eval(1000, 10)"
   ]
  },
  {
   "cell_type": "code",
   "execution_count": null,
   "metadata": {},
   "outputs": [],
   "source": [
    "for i, td in enumerate(dataset):\n",
    "    test_data = FloatTensor(np.array([td[0]]))\n",
    "    print(test_data.tolist()[0])\n",
    "    print(i)\n",
    "    print(gvf_learner.eval_model(test_data))"
   ]
  },
  {
   "cell_type": "code",
   "execution_count": null,
   "metadata": {},
   "outputs": [],
   "source": []
  }
 ],
 "metadata": {
  "kernelspec": {
   "display_name": "Python 3",
   "language": "python",
   "name": "python3"
  },
  "language_info": {
   "codemirror_mode": {
    "name": "ipython",
    "version": 3
   },
   "file_extension": ".py",
   "mimetype": "text/x-python",
   "name": "python",
   "nbconvert_exporter": "python",
   "pygments_lexer": "ipython3",
   "version": "3.6.8"
  }
 },
 "nbformat": 4,
 "nbformat_minor": 4
}
